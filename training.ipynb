{
 "cells": [
  {
   "cell_type": "code",
   "execution_count": 1,
   "id": "cf984fa6",
   "metadata": {
    "execution": {
     "iopub.execute_input": "2024-05-30T19:35:16.617219Z",
     "iopub.status.busy": "2024-05-30T19:35:16.616920Z",
     "iopub.status.idle": "2024-05-30T19:35:49.621329Z",
     "shell.execute_reply": "2024-05-30T19:35:49.620394Z"
    },
    "id": "UEyYYDFqRE5t",
    "outputId": "e3649be7-088f-4d13-e539-93e08caecd49",
    "papermill": {
     "duration": 33.017099,
     "end_time": "2024-05-30T19:35:49.623809",
     "exception": false,
     "start_time": "2024-05-30T19:35:16.606710",
     "status": "completed"
    },
    "tags": []
   },
   "outputs": [
    {
     "name": "stdout",
     "output_type": "stream",
     "text": [
      "Requirement already satisfied: torch in /opt/conda/lib/python3.10/site-packages (2.1.2)\r\n",
      "Requirement already satisfied: torchvision in /opt/conda/lib/python3.10/site-packages (0.16.2)\r\n",
      "Requirement already satisfied: timm in /opt/conda/lib/python3.10/site-packages (0.9.16)\r\n",
      "Requirement already satisfied: numpy in /opt/conda/lib/python3.10/site-packages (1.26.4)\r\n",
      "Requirement already satisfied: matplotlib in /opt/conda/lib/python3.10/site-packages (3.7.5)\r\n",
      "Requirement already satisfied: tqdm in /opt/conda/lib/python3.10/site-packages (4.66.1)\r\n",
      "Requirement already satisfied: scikit-learn in /opt/conda/lib/python3.10/site-packages (1.2.2)\r\n",
      "Requirement already satisfied: filelock in /opt/conda/lib/python3.10/site-packages (from torch) (3.13.1)\r\n",
      "Requirement already satisfied: typing-extensions in /opt/conda/lib/python3.10/site-packages (from torch) (4.9.0)\r\n",
      "Requirement already satisfied: sympy in /opt/conda/lib/python3.10/site-packages (from torch) (1.12)\r\n",
      "Requirement already satisfied: networkx in /opt/conda/lib/python3.10/site-packages (from torch) (3.2.1)\r\n",
      "Requirement already satisfied: jinja2 in /opt/conda/lib/python3.10/site-packages (from torch) (3.1.2)\r\n",
      "Requirement already satisfied: fsspec in /opt/conda/lib/python3.10/site-packages (from torch) (2024.2.0)\r\n",
      "Requirement already satisfied: requests in /opt/conda/lib/python3.10/site-packages (from torchvision) (2.31.0)\r\n",
      "Requirement already satisfied: pillow!=8.3.*,>=5.3.0 in /opt/conda/lib/python3.10/site-packages (from torchvision) (9.5.0)\r\n",
      "Requirement already satisfied: pyyaml in /opt/conda/lib/python3.10/site-packages (from timm) (6.0.1)\r\n",
      "Requirement already satisfied: huggingface_hub in /opt/conda/lib/python3.10/site-packages (from timm) (0.20.3)\r\n",
      "Requirement already satisfied: safetensors in /opt/conda/lib/python3.10/site-packages (from timm) (0.4.2)\r\n",
      "Requirement already satisfied: contourpy>=1.0.1 in /opt/conda/lib/python3.10/site-packages (from matplotlib) (1.2.0)\r\n",
      "Requirement already satisfied: cycler>=0.10 in /opt/conda/lib/python3.10/site-packages (from matplotlib) (0.12.1)\r\n",
      "Requirement already satisfied: fonttools>=4.22.0 in /opt/conda/lib/python3.10/site-packages (from matplotlib) (4.47.0)\r\n",
      "Requirement already satisfied: kiwisolver>=1.0.1 in /opt/conda/lib/python3.10/site-packages (from matplotlib) (1.4.5)\r\n",
      "Requirement already satisfied: packaging>=20.0 in /opt/conda/lib/python3.10/site-packages (from matplotlib) (21.3)\r\n",
      "Requirement already satisfied: pyparsing>=2.3.1 in /opt/conda/lib/python3.10/site-packages (from matplotlib) (3.1.1)\r\n",
      "Requirement already satisfied: python-dateutil>=2.7 in /opt/conda/lib/python3.10/site-packages (from matplotlib) (2.8.2)\r\n",
      "Requirement already satisfied: scipy>=1.3.2 in /opt/conda/lib/python3.10/site-packages (from scikit-learn) (1.11.4)\r\n",
      "Requirement already satisfied: joblib>=1.1.1 in /opt/conda/lib/python3.10/site-packages (from scikit-learn) (1.3.2)\r\n",
      "Requirement already satisfied: threadpoolctl>=2.0.0 in /opt/conda/lib/python3.10/site-packages (from scikit-learn) (3.2.0)\r\n",
      "Requirement already satisfied: six>=1.5 in /opt/conda/lib/python3.10/site-packages (from python-dateutil>=2.7->matplotlib) (1.16.0)\r\n",
      "Requirement already satisfied: MarkupSafe>=2.0 in /opt/conda/lib/python3.10/site-packages (from jinja2->torch) (2.1.3)\r\n",
      "Requirement already satisfied: charset-normalizer<4,>=2 in /opt/conda/lib/python3.10/site-packages (from requests->torchvision) (3.3.2)\r\n",
      "Requirement already satisfied: idna<4,>=2.5 in /opt/conda/lib/python3.10/site-packages (from requests->torchvision) (3.6)\r\n",
      "Requirement already satisfied: urllib3<3,>=1.21.1 in /opt/conda/lib/python3.10/site-packages (from requests->torchvision) (1.26.18)\r\n",
      "Requirement already satisfied: certifi>=2017.4.17 in /opt/conda/lib/python3.10/site-packages (from requests->torchvision) (2024.2.2)\r\n",
      "Requirement already satisfied: mpmath>=0.19 in /opt/conda/lib/python3.10/site-packages (from sympy->torch) (1.3.0)\r\n"
     ]
    }
   ],
   "source": [
    "!pip install torch torchvision timm numpy matplotlib tqdm scikit-learn"
   ]
  },
  {
   "cell_type": "code",
   "execution_count": 2,
   "id": "9d9180be",
   "metadata": {
    "execution": {
     "iopub.execute_input": "2024-05-30T19:35:49.644812Z",
     "iopub.status.busy": "2024-05-30T19:35:49.643977Z",
     "iopub.status.idle": "2024-05-30T19:36:01.820329Z",
     "shell.execute_reply": "2024-05-30T19:36:01.819175Z"
    },
    "papermill": {
     "duration": 12.189887,
     "end_time": "2024-05-30T19:36:01.823533",
     "exception": false,
     "start_time": "2024-05-30T19:35:49.633646",
     "status": "completed"
    },
    "tags": []
   },
   "outputs": [
    {
     "name": "stderr",
     "output_type": "stream",
     "text": [
      "2024-05-30 19:35:51.309920: E external/local_xla/xla/stream_executor/cuda/cuda_dnn.cc:9261] Unable to register cuDNN factory: Attempting to register factory for plugin cuDNN when one has already been registered\n",
      "2024-05-30 19:35:51.310013: E external/local_xla/xla/stream_executor/cuda/cuda_fft.cc:607] Unable to register cuFFT factory: Attempting to register factory for plugin cuFFT when one has already been registered\n",
      "2024-05-30 19:35:51.434408: E external/local_xla/xla/stream_executor/cuda/cuda_blas.cc:1515] Unable to register cuBLAS factory: Attempting to register factory for plugin cuBLAS when one has already been registered\n"
     ]
    },
    {
     "name": "stdout",
     "output_type": "stream",
     "text": [
      "Found GPU at: /device:GPU:0\n",
      "GPU available (YESS!!!!)\n"
     ]
    }
   ],
   "source": [
    "import tensorflow as tf\n",
    "\n",
    "device_name = tf.test.gpu_device_name()\n",
    "\n",
    "if \"GPU\" not in device_name:\n",
    "    print(\"GPU device not found\")\n",
    "    \n",
    "print('Found GPU at: {}'.format(device_name))\n",
    "\n",
    "print(\"GPU\", \"available (YESS!!!!)\" if tf.config.list_physical_devices(\"GPU\") else \"not available :(\")"
   ]
  },
  {
   "cell_type": "code",
   "execution_count": 3,
   "id": "723e8e9e",
   "metadata": {
    "execution": {
     "iopub.execute_input": "2024-05-30T19:36:01.857620Z",
     "iopub.status.busy": "2024-05-30T19:36:01.857052Z",
     "iopub.status.idle": "2024-05-30T19:36:08.965625Z",
     "shell.execute_reply": "2024-05-30T19:36:08.964833Z"
    },
    "id": "6G8Qm8rpQS4U",
    "papermill": {
     "duration": 7.121342,
     "end_time": "2024-05-30T19:36:08.967908",
     "exception": false,
     "start_time": "2024-05-30T19:36:01.846566",
     "status": "completed"
    },
    "tags": []
   },
   "outputs": [],
   "source": [
    "import os\n",
    "import urllib.request\n",
    "import tarfile\n",
    "import numpy as np\n",
    "import torch\n",
    "import torch.nn as nn\n",
    "import timm\n",
    "import torchvision.transforms as transforms\n",
    "from torchvision.datasets import ImageFolder\n",
    "from torch.utils.data import DataLoader , random_split\n",
    "import torch.optim as optim\n",
    "from torch.optim import lr_scheduler\n",
    "from sklearn.metrics import accuracy_score, precision_score, recall_score, f1_score\n",
    "import matplotlib.pyplot as plt\n",
    "import time"
   ]
  },
  {
   "cell_type": "code",
   "execution_count": 4,
   "id": "b953f18d",
   "metadata": {
    "execution": {
     "iopub.execute_input": "2024-05-30T19:36:08.988708Z",
     "iopub.status.busy": "2024-05-30T19:36:08.988201Z",
     "iopub.status.idle": "2024-05-30T19:36:18.054788Z",
     "shell.execute_reply": "2024-05-30T19:36:18.053793Z"
    },
    "id": "nrY4r-JZjtNA",
    "papermill": {
     "duration": 9.079414,
     "end_time": "2024-05-30T19:36:18.057268",
     "exception": false,
     "start_time": "2024-05-30T19:36:08.977854",
     "status": "completed"
    },
    "tags": []
   },
   "outputs": [
    {
     "name": "stdout",
     "output_type": "stream",
     "text": [
      "mv: cannot remove '/kaggle/input/timmvit-base-patch16-224-augreg2-in21k-ft-in1k/pytorch_model.bin': Read-only file system\r\n"
     ]
    }
   ],
   "source": [
    "!mkdir -p ./pretrained_weights/vit_base_patch16_224.augreg2_in21k_ft_in1k\n",
    "!mv /kaggle/input/timmvit-base-patch16-224-augreg2-in21k-ft-in1k/pytorch_model.bin ./pretrained_weights/vit_base_patch16_224.augreg2_in21k_ft_in1k/\n"
   ]
  },
  {
   "cell_type": "code",
   "execution_count": 5,
   "id": "85abe68c",
   "metadata": {
    "execution": {
     "iopub.execute_input": "2024-05-30T19:36:18.078965Z",
     "iopub.status.busy": "2024-05-30T19:36:18.078614Z",
     "iopub.status.idle": "2024-05-30T19:36:18.083274Z",
     "shell.execute_reply": "2024-05-30T19:36:18.082322Z"
    },
    "id": "Gf4SKIqaRmbg",
    "papermill": {
     "duration": 0.018076,
     "end_time": "2024-05-30T19:36:18.085259",
     "exception": false,
     "start_time": "2024-05-30T19:36:18.067183",
     "status": "completed"
    },
    "tags": []
   },
   "outputs": [],
   "source": [
    "dataset_path = '../input/CUB-200-2011'"
   ]
  },
  {
   "cell_type": "code",
   "execution_count": 10,
   "id": "71f7d33f",
   "metadata": {
    "execution": {
     "iopub.execute_input": "2024-05-30T19:36:18.209346Z",
     "iopub.status.busy": "2024-05-30T19:36:18.208967Z",
     "iopub.status.idle": "2024-05-30T19:36:18.218168Z",
     "shell.execute_reply": "2024-05-30T19:36:18.217353Z"
    },
    "id": "1RS-2FIlTs5g",
    "papermill": {
     "duration": 0.021587,
     "end_time": "2024-05-30T19:36:18.219934",
     "exception": false,
     "start_time": "2024-05-30T19:36:18.198347",
     "status": "completed"
    },
    "tags": []
   },
   "outputs": [],
   "source": [
    "\n",
    "train_transforms = transforms.Compose([\n",
    "    transforms.Resize((224, 224)),\n",
    "    transforms.RandomCrop(224, padding=28),\n",
    "    transforms.RandomHorizontalFlip(),\n",
    "    transforms.RandomRotation(10),\n",
    "    transforms.ColorJitter(brightness=0.2, contrast=0.2, saturation=0.2, hue=0.1),\n",
    "    transforms.ToTensor(),\n",
    "    transforms.Normalize(mean=[0.485, 0.456, 0.406], std=[0.229, 0.224, 0.225])\n",
    "])\n",
    "\n",
    "val_transforms = transforms.Compose([\n",
    "    transforms.Resize((224, 224)),\n",
    "    transforms.ToTensor(),\n",
    "    transforms.Normalize(mean=[0.485, 0.456, 0.406], std=[0.229, 0.224, 0.225])\n",
    "])"
   ]
  },
  {
   "cell_type": "code",
   "execution_count": 11,
   "id": "f01049c0",
   "metadata": {
    "execution": {
     "iopub.execute_input": "2024-05-30T19:36:18.240230Z",
     "iopub.status.busy": "2024-05-30T19:36:18.239596Z",
     "iopub.status.idle": "2024-05-30T19:36:29.164096Z",
     "shell.execute_reply": "2024-05-30T19:36:29.163106Z"
    },
    "id": "-mr16nHXUcWE",
    "papermill": {
     "duration": 10.937278,
     "end_time": "2024-05-30T19:36:29.166618",
     "exception": false,
     "start_time": "2024-05-30T19:36:18.229340",
     "status": "completed"
    },
    "tags": []
   },
   "outputs": [],
   "source": [
    "# Loading the dataset using ImageFolder from torchvision.datasets\n",
    "dataset = ImageFolder(root='/kaggle/input/cub2002011/CUB_200_2011/images', transform=train_transforms)"
   ]
  },
  {
   "cell_type": "code",
   "execution_count": 12,
   "id": "03bdb900",
   "metadata": {
    "execution": {
     "iopub.execute_input": "2024-05-30T19:36:29.187610Z",
     "iopub.status.busy": "2024-05-30T19:36:29.187052Z",
     "iopub.status.idle": "2024-05-30T19:36:29.207098Z",
     "shell.execute_reply": "2024-05-30T19:36:29.206425Z"
    },
    "id": "b4ujUJetUnex",
    "papermill": {
     "duration": 0.03236,
     "end_time": "2024-05-30T19:36:29.209015",
     "exception": false,
     "start_time": "2024-05-30T19:36:29.176655",
     "status": "completed"
    },
    "tags": []
   },
   "outputs": [],
   "source": [
    "train_size = int(0.8 * len(dataset))\n",
    "val_size = len(dataset) - train_size\n",
    "train_dataset, val_dataset = random_split(dataset, [train_size, val_size])"
   ]
  },
  {
   "cell_type": "code",
   "execution_count": 13,
   "id": "133a7d4b",
   "metadata": {
    "execution": {
     "iopub.execute_input": "2024-05-30T19:36:29.229472Z",
     "iopub.status.busy": "2024-05-30T19:36:29.228813Z",
     "iopub.status.idle": "2024-05-30T19:36:29.232606Z",
     "shell.execute_reply": "2024-05-30T19:36:29.231814Z"
    },
    "id": "pXJwqvP7VBX1",
    "papermill": {
     "duration": 0.015946,
     "end_time": "2024-05-30T19:36:29.234397",
     "exception": false,
     "start_time": "2024-05-30T19:36:29.218451",
     "status": "completed"
    },
    "tags": []
   },
   "outputs": [],
   "source": [
    "val_dataset.dataset.transform = val_transforms"
   ]
  },
  {
   "cell_type": "code",
   "execution_count": 14,
   "id": "1ff80af9",
   "metadata": {
    "execution": {
     "iopub.execute_input": "2024-05-30T19:36:29.255316Z",
     "iopub.status.busy": "2024-05-30T19:36:29.254787Z",
     "iopub.status.idle": "2024-05-30T19:36:29.259651Z",
     "shell.execute_reply": "2024-05-30T19:36:29.258749Z"
    },
    "id": "wDr1eleSVFln",
    "papermill": {
     "duration": 0.017683,
     "end_time": "2024-05-30T19:36:29.261482",
     "exception": false,
     "start_time": "2024-05-30T19:36:29.243799",
     "status": "completed"
    },
    "tags": []
   },
   "outputs": [],
   "source": [
    "# Creating data loaders\n",
    "train_loader = DataLoader(train_dataset, batch_size=32, shuffle=True, num_workers = 2)\n",
    "val_loader = DataLoader(val_dataset, batch_size=32, shuffle=True, num_workers=2)"
   ]
  },
  {
   "cell_type": "code",
   "execution_count": 15,
   "id": "c99734c0",
   "metadata": {
    "execution": {
     "iopub.execute_input": "2024-05-30T19:36:29.281361Z",
     "iopub.status.busy": "2024-05-30T19:36:29.280815Z",
     "iopub.status.idle": "2024-05-30T19:36:29.285008Z",
     "shell.execute_reply": "2024-05-30T19:36:29.284204Z"
    },
    "id": "UJVeSuIPVZDx",
    "papermill": {
     "duration": 0.016431,
     "end_time": "2024-05-30T19:36:29.287293",
     "exception": false,
     "start_time": "2024-05-30T19:36:29.270862",
     "status": "completed"
    },
    "tags": []
   },
   "outputs": [
    {
     "name": "stdout",
     "output_type": "stream",
     "text": [
      "Training dataset size :  9436\n",
      "Validation dataset size :  2360\n"
     ]
    }
   ],
   "source": [
    "print(\"Training dataset size : \", len(train_dataset))\n",
    "print(\"Validation dataset size : \", len(val_dataset))"
   ]
  },
  {
   "cell_type": "code",
   "execution_count": 16,
   "id": "d8e8c841",
   "metadata": {
    "execution": {
     "iopub.execute_input": "2024-05-30T19:36:29.307796Z",
     "iopub.status.busy": "2024-05-30T19:36:29.307265Z",
     "iopub.status.idle": "2024-05-30T19:36:29.320178Z",
     "shell.execute_reply": "2024-05-30T19:36:29.319379Z"
    },
    "id": "_xjlpZBVVhJ6",
    "papermill": {
     "duration": 0.025019,
     "end_time": "2024-05-30T19:36:29.321897",
     "exception": false,
     "start_time": "2024-05-30T19:36:29.296878",
     "status": "completed"
    },
    "tags": []
   },
   "outputs": [],
   "source": [
    "class ViTAttention(nn.Module):\n",
    "    def __init__(self, in_channels, num_classes, pretrained=True):\n",
    "        super(ViTAttention, self).__init__()\n",
    "        self.model = timm.create_model('vit_base_patch16_224', pretrained=False)\n",
    "        \n",
    "        if pretrained:\n",
    "            self.model.load_state_dict(torch.load('/kaggle/input/timmvit-base-patch16-224-augreg2-in21k-ft-in1k/pytorch_model.bin'))\n",
    "        \n",
    "\n",
    "        # Modify the last layer for fine-grained classification\n",
    "        num_features = self.model.head.in_features\n",
    "        self.model.head = nn.Linear(num_features, num_classes)\n",
    "\n",
    "        # Add attention mechanisms\n",
    "        self.attention1 = SelfAttention(num_features)\n",
    "        self.attention2 = HierarchicalAttention(num_features)\n",
    "\n",
    "    def forward(self, x):\n",
    "        features = self.model.forward_features(x)\n",
    "\n",
    "        # Apply attention mechanisms\n",
    "        attention1 = self.attention1(features)\n",
    "        attention2 = self.attention2(features)\n",
    "\n",
    "        # Concatenate attention features\n",
    "        features = torch.cat((features, attention1, attention2), dim=1)\n",
    "\n",
    "        # Pass through the final classifier\n",
    "        output = self.model.head(features)\n",
    "\n",
    "        return output\n",
    "\n",
    "class SelfAttention(nn.Module):\n",
    "    def __init__(self, num_features):\n",
    "        super(SelfAttention, self).__init__()\n",
    "        self.num_features = num_features\n",
    "        self.query = nn.Linear(num_features, num_features)\n",
    "        self.key = nn.Linear(num_features, num_features)\n",
    "        self.value = nn.Linear(num_features, num_features)\n",
    "        self.softmax = nn.Softmax(dim=-1)\n",
    "\n",
    "    def forward(self, features):\n",
    "        queries = self.query(features)\n",
    "        keys = self.key(features)\n",
    "        values = self.value(features)\n",
    "\n",
    "        attention_scores = torch.matmul(queries, keys.transpose(-2, -1))\n",
    "        attention_scores = attention_scores / (self.num_features ** 0.5)\n",
    "        attention_weights = self.softmax(attention_scores)\n",
    "\n",
    "        attention_output = torch.matmul(attention_weights, values)\n",
    "\n",
    "        return attention_output\n",
    "\n",
    "class HierarchicalAttention(nn.Module):\n",
    "    def __init__(self, num_features):\n",
    "        super(HierarchicalAttention, self).__init__()\n",
    "        self.attention1 = SelfAttention(num_features)\n",
    "        self.attention2 = SelfAttention(num_features)\n",
    "\n",
    "    def forward(self, features):\n",
    "        attention1 = self.attention1(features)\n",
    "        attention2 = self.attention2(attention1)\n",
    "\n",
    "        return attention2"
   ]
  },
  {
   "cell_type": "code",
   "execution_count": 17,
   "id": "0e4d731e",
   "metadata": {
    "execution": {
     "iopub.execute_input": "2024-05-30T19:36:29.341741Z",
     "iopub.status.busy": "2024-05-30T19:36:29.341505Z",
     "iopub.status.idle": "2024-05-30T19:36:29.345545Z",
     "shell.execute_reply": "2024-05-30T19:36:29.344756Z"
    },
    "papermill": {
     "duration": 0.01601,
     "end_time": "2024-05-30T19:36:29.347378",
     "exception": false,
     "start_time": "2024-05-30T19:36:29.331368",
     "status": "completed"
    },
    "tags": []
   },
   "outputs": [],
   "source": [
    "import os\n",
    "\n",
    "# Create a directory to store the checkpoints\n",
    "checkpoint_dir = '/kaggle/working/saved_checkpoints'\n",
    "os.makedirs(checkpoint_dir, exist_ok=True)"
   ]
  },
  {
   "cell_type": "code",
   "execution_count": 18,
   "id": "ceea4a65",
   "metadata": {
    "execution": {
     "iopub.execute_input": "2024-05-30T19:36:29.367470Z",
     "iopub.status.busy": "2024-05-30T19:36:29.367201Z",
     "iopub.status.idle": "2024-05-30T20:44:36.422753Z",
     "shell.execute_reply": "2024-05-30T20:44:36.421466Z"
    },
    "papermill": {
     "duration": 4087.068449,
     "end_time": "2024-05-30T20:44:36.425276",
     "exception": false,
     "start_time": "2024-05-30T19:36:29.356827",
     "status": "completed"
    },
    "tags": []
   },
   "outputs": [
    {
     "name": "stdout",
     "output_type": "stream",
     "text": [
      "Epoch 1/20 - Train Loss: 2.0405 - Train Acc: 0.5253\n",
      "Epoch 1/20 - Val Loss: 1.0446 - Val Acc: 0.7097 - Val Precision: 0.7775 - Val Recall: 0.7125 - Val F1: 0.7000\n",
      "Epoch 1 time: 187.94 seconds\n",
      "Epoch 2/20 - Train Loss: 0.6333 - Train Acc: 0.8172\n",
      "Epoch 2/20 - Val Loss: 1.0322 - Val Acc: 0.7263 - Val Precision: 0.7754 - Val Recall: 0.7293 - Val F1: 0.7207\n",
      "Epoch 2 time: 206.39 seconds\n",
      "Epoch 3/20 - Train Loss: 0.3712 - Train Acc: 0.8876\n",
      "Epoch 3/20 - Val Loss: 1.0876 - Val Acc: 0.7182 - Val Precision: 0.7747 - Val Recall: 0.7234 - Val F1: 0.7109\n",
      "Epoch 3 time: 204.28 seconds\n",
      "Epoch 4/20 - Train Loss: 0.2563 - Train Acc: 0.9241\n",
      "Epoch 4/20 - Val Loss: 1.1300 - Val Acc: 0.7123 - Val Precision: 0.7455 - Val Recall: 0.7200 - Val F1: 0.7086\n",
      "Epoch 4 time: 203.53 seconds\n",
      "Epoch 5/20 - Train Loss: 0.2071 - Train Acc: 0.9396\n",
      "Epoch 5/20 - Val Loss: 1.2434 - Val Acc: 0.7064 - Val Precision: 0.7492 - Val Recall: 0.7117 - Val F1: 0.7059\n",
      "Epoch 5 time: 203.68 seconds\n",
      "Epoch 6/20 - Train Loss: 0.1948 - Train Acc: 0.9414\n",
      "Epoch 6/20 - Val Loss: 1.2877 - Val Acc: 0.7102 - Val Precision: 0.7440 - Val Recall: 0.7186 - Val F1: 0.7076\n",
      "Epoch 6 time: 203.86 seconds\n",
      "Epoch 7/20 - Train Loss: 0.1775 - Train Acc: 0.9458\n",
      "Epoch 7/20 - Val Loss: 1.3897 - Val Acc: 0.6928 - Val Precision: 0.7412 - Val Recall: 0.6950 - Val F1: 0.6903\n",
      "Epoch 7 time: 203.94 seconds\n",
      "Epoch 8/20 - Train Loss: 0.1726 - Train Acc: 0.9486\n",
      "Epoch 8/20 - Val Loss: 1.5218 - Val Acc: 0.6614 - Val Precision: 0.7274 - Val Recall: 0.6676 - Val F1: 0.6623\n",
      "Epoch 8 time: 203.89 seconds\n",
      "Epoch 9/20 - Train Loss: 0.0225 - Train Acc: 0.9950\n",
      "Epoch 9/20 - Val Loss: 1.0663 - Val Acc: 0.7619 - Val Precision: 0.7828 - Val Recall: 0.7668 - Val F1: 0.7650\n",
      "Epoch 9 time: 203.90 seconds\n",
      "Epoch 10/20 - Train Loss: 0.0022 - Train Acc: 1.0000\n",
      "Epoch 10/20 - Val Loss: 1.0618 - Val Acc: 0.7691 - Val Precision: 0.7833 - Val Recall: 0.7763 - Val F1: 0.7710\n",
      "Epoch 10 time: 204.70 seconds\n",
      "Model checkpoint saved for epoch 10\n",
      "Epoch 11/20 - Train Loss: 0.0011 - Train Acc: 1.0000\n",
      "Epoch 11/20 - Val Loss: 1.0595 - Val Acc: 0.7657 - Val Precision: 0.7796 - Val Recall: 0.7725 - Val F1: 0.7677\n",
      "Epoch 11 time: 206.39 seconds\n",
      "Epoch 12/20 - Train Loss: 0.0009 - Train Acc: 1.0000\n",
      "Epoch 12/20 - Val Loss: 1.0652 - Val Acc: 0.7669 - Val Precision: 0.7799 - Val Recall: 0.7738 - Val F1: 0.7683\n",
      "Epoch 12 time: 203.91 seconds\n",
      "Epoch 13/20 - Train Loss: 0.0008 - Train Acc: 1.0000\n",
      "Epoch 13/20 - Val Loss: 1.0744 - Val Acc: 0.7669 - Val Precision: 0.7805 - Val Recall: 0.7731 - Val F1: 0.7686\n",
      "Epoch 13 time: 204.03 seconds\n",
      "Epoch 14/20 - Train Loss: 0.0007 - Train Acc: 1.0000\n",
      "Epoch 14/20 - Val Loss: 1.0831 - Val Acc: 0.7636 - Val Precision: 0.7773 - Val Recall: 0.7707 - Val F1: 0.7652\n",
      "Epoch 14 time: 203.96 seconds\n",
      "Epoch 15/20 - Train Loss: 0.0006 - Train Acc: 1.0000\n",
      "Epoch 15/20 - Val Loss: 1.0833 - Val Acc: 0.7636 - Val Precision: 0.7771 - Val Recall: 0.7705 - Val F1: 0.7648\n",
      "Epoch 15 time: 204.14 seconds\n",
      "Epoch 16/20 - Train Loss: 0.0006 - Train Acc: 1.0000\n",
      "Epoch 16/20 - Val Loss: 1.0841 - Val Acc: 0.7644 - Val Precision: 0.7785 - Val Recall: 0.7716 - Val F1: 0.7659\n",
      "Epoch 16 time: 203.89 seconds\n",
      "Epoch 17/20 - Train Loss: 0.0006 - Train Acc: 1.0000\n",
      "Epoch 17/20 - Val Loss: 1.0853 - Val Acc: 0.7636 - Val Precision: 0.7776 - Val Recall: 0.7704 - Val F1: 0.7648\n",
      "Epoch 17 time: 203.89 seconds\n",
      "Epoch 18/20 - Train Loss: 0.0006 - Train Acc: 1.0000\n",
      "Epoch 18/20 - Val Loss: 1.0865 - Val Acc: 0.7644 - Val Precision: 0.7782 - Val Recall: 0.7714 - Val F1: 0.7658\n",
      "Epoch 18 time: 203.87 seconds\n",
      "Epoch 19/20 - Train Loss: 0.0006 - Train Acc: 1.0000\n",
      "Epoch 19/20 - Val Loss: 1.0879 - Val Acc: 0.7640 - Val Precision: 0.7775 - Val Recall: 0.7708 - Val F1: 0.7653\n",
      "Epoch 19 time: 203.83 seconds\n",
      "Epoch 20/20 - Train Loss: 0.0006 - Train Acc: 1.0000\n",
      "Epoch 20/20 - Val Loss: 1.0891 - Val Acc: 0.7631 - Val Precision: 0.7764 - Val Recall: 0.7700 - Val F1: 0.7643\n",
      "Epoch 20 time: 203.97 seconds\n",
      "Model checkpoint saved for epoch 20\n"
     ]
    }
   ],
   "source": [
    "\n",
    "# Instantiate your model architecture\n",
    "model = ViTAttention(in_channels=3, num_classes=200, pretrained=True)\n",
    "\n",
    "# Add dropout layers to the model architecture\n",
    "model.attention1 = nn.Sequential(\n",
    "    model.attention1,\n",
    "    nn.Dropout(0.5)\n",
    ")\n",
    "model.attention2 = nn.Sequential(\n",
    "    model.attention2,\n",
    "    nn.Dropout(0.5)\n",
    ")\n",
    "\n",
    "# Define the loss function with L2 regularization\n",
    "criterion = nn.CrossEntropyLoss()\n",
    "\n",
    "# Set up the optimizer with weight decay\n",
    "optimizer = optim.Adam(model.parameters(), lr=0.0001, weight_decay=0.0001)\n",
    "\n",
    "# Set up the learning rate scheduler\n",
    "scheduler = lr_scheduler.ReduceLROnPlateau(optimizer, mode='min', factor=0.1, patience=5)\n",
    "\n",
    "# Set up the device\n",
    "device = torch.device('cuda' if torch.cuda.is_available() else 'cpu')\n",
    "\n",
    "# Move the model to the desired device\n",
    "model.to(device)\n",
    "\n",
    "# Load the last saved checkpoint if available\n",
    "checkpoint_files = sorted([f for f in os.listdir(checkpoint_dir) if f.startswith('model_epoch_')])\n",
    "if checkpoint_files:\n",
    "    last_checkpoint = checkpoint_files[-1]\n",
    "    checkpoint_path = os.path.join(checkpoint_dir, last_checkpoint)\n",
    "    checkpoint = torch.load(checkpoint_path, map_location=device)\n",
    "    model.load_state_dict(checkpoint['model_state_dict'])\n",
    "    optimizer.load_state_dict(checkpoint['optimizer_state_dict'])\n",
    "    start_epoch = checkpoint['epoch'] + 1\n",
    "    best_acc = checkpoint['best_acc']\n",
    "    train_losses = checkpoint['train_losses']\n",
    "    val_losses = checkpoint['val_losses']\n",
    "    train_accuracies = checkpoint['train_accuracies']\n",
    "    val_accuracies = checkpoint['val_accuracies']\n",
    "    print(f'Loaded checkpoint from epoch {start_epoch - 1}')\n",
    "else:\n",
    "    start_epoch = 0\n",
    "    best_acc = 0.0\n",
    "    train_losses = []\n",
    "    val_losses = []\n",
    "    train_accuracies = []\n",
    "    val_accuracies = []\n",
    "\n",
    "# # Wrap the model with DataParallel if multiple GPUs are available\n",
    "# if torch.cuda.device_count() > 1:\n",
    "#     print(f\"Using {torch.cuda.device_count()} GPUs\")\n",
    "#     model = nn.DataParallel(model)\n",
    "\n",
    "# device = torch.device('cuda' if torch.cuda.is_available() else 'cpu')\n",
    "device = torch.device('cuda:0' if torch.cuda.is_available() else 'cpu')\n",
    "model.to(device)\n",
    "\n",
    "if torch.cuda.device_count() > 1:\n",
    "    print(f\"Using {torch.cuda.device_count()} GPUs\")\n",
    "    model = nn.DataParallel(model)\n",
    "    \n",
    "num_epochs = 20\n",
    "start_time = time.time()\n",
    "\n",
    "for epoch in range(start_epoch, num_epochs):\n",
    "    model.train()\n",
    "    running_loss = 0.0\n",
    "    running_corrects = 0\n",
    "    total_samples = 0\n",
    "\n",
    "    for images, labels in train_loader:\n",
    "        images = images.to(device)\n",
    "        labels = labels.to(device)\n",
    "\n",
    "        # Forward pass\n",
    "        outputs = model(images)\n",
    "        outputs = outputs.mean(dim=1)\n",
    "\n",
    "        loss = criterion(outputs, labels.long())\n",
    "\n",
    "        # Backward pass and optimization\n",
    "        optimizer.zero_grad()\n",
    "        loss.backward()\n",
    "\n",
    "        # Gradient clipping\n",
    "        nn.utils.clip_grad_norm_(model.parameters(), max_norm=1.0)\n",
    "\n",
    "        optimizer.step()\n",
    "\n",
    "        # Statistics\n",
    "        running_loss += loss.item() * images.size(0)\n",
    "        _, preds = torch.max(outputs, 1)\n",
    "        running_corrects += torch.sum(preds == labels.data)\n",
    "        total_samples += images.size(0)\n",
    "\n",
    "    epoch_loss = running_loss / total_samples\n",
    "    epoch_acc = running_corrects.double() / total_samples\n",
    "    train_losses.append(epoch_loss)\n",
    "    train_accuracies.append(epoch_acc)\n",
    "\n",
    "    print(f'Epoch {epoch+1}/{num_epochs} - Train Loss: {epoch_loss:.4f} - Train Acc: {epoch_acc:.4f}')\n",
    "    \n",
    "    end_time = time.time()\n",
    "    \n",
    "\n",
    "\n",
    "    # Validation\n",
    "    model.eval()\n",
    "    val_loss = 0.0\n",
    "    val_corrects = 0\n",
    "    val_total_samples = 0\n",
    "    val_preds = []\n",
    "    val_labels = []\n",
    "\n",
    "    with torch.no_grad():\n",
    "        for images, labels in val_loader:\n",
    "            images = images.to(device)\n",
    "            labels = labels.to(device)\n",
    "\n",
    "            outputs = model(images)\n",
    "            outputs = outputs.mean(dim=1)\n",
    "            loss = criterion(outputs, labels.long())\n",
    "\n",
    "            val_loss += loss.item() * images.size(0)\n",
    "            _, preds = torch.max(outputs, 1)\n",
    "            val_corrects += torch.sum(preds == labels.data)\n",
    "            val_total_samples += images.size(0)\n",
    "\n",
    "            val_preds.extend(preds.cpu().numpy())\n",
    "            val_labels.extend(labels.cpu().numpy())\n",
    "\n",
    "    val_epoch_loss = val_loss / val_total_samples\n",
    "    val_epoch_acc = val_corrects.double() / val_total_samples\n",
    "    val_losses.append(val_epoch_loss)\n",
    "    val_accuracies.append(val_epoch_acc)\n",
    "\n",
    "    val_precision = precision_score(val_labels, val_preds, average='macro', zero_division=1)\n",
    "    val_recall = recall_score(val_labels, val_preds, average='macro')\n",
    "    val_f1 = f1_score(val_labels, val_preds, average='macro')\n",
    "\n",
    "    print(f'Epoch {epoch+1}/{num_epochs} - Val Loss: {val_epoch_loss:.4f} - Val Acc: {val_epoch_acc:.4f} - Val Precision: {val_precision:.4f} - Val Recall: {val_recall:.4f} - Val F1: {val_f1:.4f}')\n",
    "    \n",
    "    epoch_time = end_time - start_time\n",
    "    print(f\"Epoch {epoch+1} time: {epoch_time:.2f} seconds\")\n",
    "    start_time = end_time\n",
    "    \n",
    "    if (epoch + 1) % 10 == 0:\n",
    "        checkpoint_path = os.path.join(checkpoint_dir, f'model_epoch_{epoch+1}.pth')\n",
    "        if isinstance(model, nn.DataParallel):\n",
    "            torch.save({\n",
    "                'epoch': epoch,\n",
    "                'model_state_dict': model.module.state_dict(),\n",
    "                'optimizer_state_dict': optimizer.state_dict(),\n",
    "                'best_acc': best_acc,\n",
    "                'train_losses': train_losses,\n",
    "                'val_losses': val_losses,\n",
    "                'train_accuracies': train_accuracies,\n",
    "                'val_accuracies': val_accuracies\n",
    "            }, checkpoint_path)\n",
    "        else:\n",
    "            torch.save({\n",
    "                'epoch': epoch,\n",
    "                'model_state_dict': model.state_dict(),\n",
    "                'optimizer_state_dict': optimizer.state_dict(),\n",
    "                'best_acc': best_acc,\n",
    "                'train_losses': train_losses,\n",
    "                'val_losses': val_losses,\n",
    "                'train_accuracies': train_accuracies,\n",
    "                'val_accuracies': val_accuracies\n",
    "            }, checkpoint_path)\n",
    "        print(f'Model checkpoint saved for epoch {epoch+1}')\n",
    "    \n",
    "    # Update the learning rate scheduler with validation loss\n",
    "    scheduler.step(val_epoch_loss)\n",
    "    \n",
    "    model_path = '/kaggle/working/final_model.pth'\n",
    "    \n",
    "    # Save the model checkpoint\n",
    "    if val_epoch_acc > best_acc:\n",
    "        best_acc = val_epoch_acc\n",
    "        if isinstance(model, nn.DataParallel):\n",
    "            torch.save(model.module.state_dict(), model_path)\n",
    "        else:\n",
    "            torch.save(model.state_dict(), model_path)\n",
    "\n",
    "\n"
   ]
  },
  {
   "cell_type": "code",
   "execution_count": 21,
   "id": "a3c2fde7",
   "metadata": {
    "execution": {
     "iopub.execute_input": "2024-05-30T20:44:36.522851Z",
     "iopub.status.busy": "2024-05-30T20:44:36.522610Z",
     "iopub.status.idle": "2024-05-30T20:44:37.096571Z",
     "shell.execute_reply": "2024-05-30T20:44:37.095588Z"
    },
    "id": "Wtm7qUahhHkT",
    "papermill": {
     "duration": 0.589585,
     "end_time": "2024-05-30T20:44:37.098673",
     "exception": false,
     "start_time": "2024-05-30T20:44:36.509088",
     "status": "completed"
    },
    "tags": []
   },
   "outputs": [
    {
     "data": {
      "image/png": "[encoded data removed]",
      "text/plain": [
       "<Figure size 1200x400 with 2 Axes>"
      ]
     },
     "metadata": {},
     "output_type": "display_data"
    }
   ],
   "source": [
    "# Plot training and validation losses and accuracies\n",
    "\n",
    "# Move the tensors to CPU for plotting\n",
    "train_accuracies_cpu = [acc.cpu().item() for acc in train_accuracies]\n",
    "val_accuracies_cpu = [acc.cpu().item() for acc in val_accuracies]\n",
    "\n",
    "plt.figure(figsize=(12, 4))\n",
    "plt.subplot(1, 2, 1)\n",
    "plt.plot(train_losses, label='Training Loss')\n",
    "plt.plot(val_losses, label='Validation Loss')\n",
    "plt.xlabel('Epoch')\n",
    "# import os -> os.chdir(r'/kaggle/working') \n",
    "plt.ylabel('Loss')\n",
    "plt.legend()\n",
    "\n",
    "plt.subplot(1, 2, 2)\n",
    "plt.plot(train_accuracies_cpu, label='Training Accuracy')\n",
    "plt.plot(val_accuracies_cpu, label='Validation Accuracy')\n",
    "plt.xlabel('Epoch')\n",
    "plt.ylabel('Accuracy')\n",
    "plt.legend()\n",
    "\n",
    "plt.tight_layout()\n",
    "plt.show()"
   ]
  },
  {
   "cell_type": "code",
   "execution_count": 22,
   "id": "288e3ebb",
   "metadata": {
    "execution": {
     "iopub.execute_input": "2024-05-30T20:44:37.127591Z",
     "iopub.status.busy": "2024-05-30T20:44:37.127293Z",
     "iopub.status.idle": "2024-05-30T20:44:38.087362Z",
     "shell.execute_reply": "2024-05-30T20:44:38.086392Z"
    },
    "id": "ZJdUvFiWhHqc",
    "papermill": {
     "duration": 0.976866,
     "end_time": "2024-05-30T20:44:38.089735",
     "exception": false,
     "start_time": "2024-05-30T20:44:37.112869",
     "status": "completed"
    },
    "tags": []
   },
   "outputs": [
    {
     "name": "stdout",
     "output_type": "stream",
     "text": [
      "__notebook__.ipynb  final_model.pth  \u001b[0m\u001b[01;34mpretrained_weights\u001b[0m/  \u001b[01;34msaved_checkpoints\u001b[0m/\r\n"
     ]
    }
   ],
   "source": [
    "%ls"
   ]
  }
 ],
 "metadata": {
  "accelerator": "GPU",
  "colab": {
   "gpuType": "T4",
   "provenance": []
  },
  "kaggle": {
   "accelerator": "gpu",
   "dataSources": [
    {
     "datasetId": 2534241,
     "sourceId": 5140550,
     "sourceType": "datasetVersion"
    },
    {
     "datasetId": 4577914,
     "sourceId": 7814836,
     "sourceType": "datasetVersion"
    }
   ],
   "dockerImageVersionId": 30665,
   "isGpuEnabled": true,
   "isInternetEnabled": false,
   "language": "python",
   "sourceType": "notebook"
  },
  "kernelspec": {
   "display_name": "Python 3 (ipykernel)",
   "language": "python",
   "name": "python3"
  },
  "language_info": {
   "codemirror_mode": {
    "name": "ipython",
    "version": 3
   },
   "file_extension": ".py",
   "mimetype": "text/x-python",
   "name": "python",
   "nbconvert_exporter": "python",
   "pygments_lexer": "ipython3",
   "version": "3.8.16"
  },
  "papermill": {
   "default_parameters": {},
   "duration": 4168.987064,
   "end_time": "2024-05-30T20:44:42.892389",
   "environment_variables": {},
   "exception": true,
   "input_path": "__notebook__.ipynb",
   "output_path": "__notebook__.ipynb",
   "parameters": {},
   "start_time": "2024-05-30T19:35:13.905325",
   "version": "2.5.0"
  }
 },
 "nbformat": 4,
 "nbformat_minor": 5
}
